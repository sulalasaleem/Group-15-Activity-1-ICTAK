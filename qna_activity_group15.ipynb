{
 "cells": [
  {
   "cell_type": "code",
   "execution_count": 1,
   "id": "416c8e08",
   "metadata": {},
   "outputs": [],
   "source": [
    "import pandas as pd\n",
    "import matplotlib.pyplot as plt\n",
    "import numpy as np\n",
    "import seaborn as sns"
   ]
  },
  {
   "cell_type": "code",
   "execution_count": 2,
   "id": "fc8356ab",
   "metadata": {},
   "outputs": [
    {
     "data": {
      "text/html": [
       "<div>\n",
       "<style scoped>\n",
       "    .dataframe tbody tr th:only-of-type {\n",
       "        vertical-align: middle;\n",
       "    }\n",
       "\n",
       "    .dataframe tbody tr th {\n",
       "        vertical-align: top;\n",
       "    }\n",
       "\n",
       "    .dataframe thead th {\n",
       "        text-align: right;\n",
       "    }\n",
       "</style>\n",
       "<table border=\"1\" class=\"dataframe\">\n",
       "  <thead>\n",
       "    <tr style=\"text-align: right;\">\n",
       "      <th></th>\n",
       "      <th>country</th>\n",
       "      <th>Region</th>\n",
       "      <th>Surface area (km2)</th>\n",
       "      <th>Population in thousands (2017)</th>\n",
       "      <th>GDP per capita (current US$)</th>\n",
       "      <th>Agricultural production index</th>\n",
       "      <th>International trade: Imports (million US$)</th>\n",
       "    </tr>\n",
       "  </thead>\n",
       "  <tbody>\n",
       "    <tr>\n",
       "      <th>0</th>\n",
       "      <td>Afghanistan</td>\n",
       "      <td>SouthernAsia</td>\n",
       "      <td>652864</td>\n",
       "      <td>35530</td>\n",
       "      <td>623.2</td>\n",
       "      <td>125</td>\n",
       "      <td>3568</td>\n",
       "    </tr>\n",
       "    <tr>\n",
       "      <th>1</th>\n",
       "      <td>Albania</td>\n",
       "      <td>SouthernEurope</td>\n",
       "      <td>28748</td>\n",
       "      <td>2930</td>\n",
       "      <td>3984.2</td>\n",
       "      <td>134</td>\n",
       "      <td>4669</td>\n",
       "    </tr>\n",
       "    <tr>\n",
       "      <th>2</th>\n",
       "      <td>Algeria</td>\n",
       "      <td>NorthernAfrica</td>\n",
       "      <td>2381741</td>\n",
       "      <td>41318</td>\n",
       "      <td>4154.1</td>\n",
       "      <td>160</td>\n",
       "      <td>47091</td>\n",
       "    </tr>\n",
       "    <tr>\n",
       "      <th>3</th>\n",
       "      <td>Angola</td>\n",
       "      <td>MiddleAfrica</td>\n",
       "      <td>1246700</td>\n",
       "      <td>29784</td>\n",
       "      <td>4714.1</td>\n",
       "      <td>175</td>\n",
       "      <td>8790</td>\n",
       "    </tr>\n",
       "    <tr>\n",
       "      <th>4</th>\n",
       "      <td>Antigua and Barbuda</td>\n",
       "      <td>Caribbean</td>\n",
       "      <td>442</td>\n",
       "      <td>102</td>\n",
       "      <td>14764.5</td>\n",
       "      <td>88</td>\n",
       "      <td>491</td>\n",
       "    </tr>\n",
       "  </tbody>\n",
       "</table>\n",
       "</div>"
      ],
      "text/plain": [
       "               country          Region  Surface area (km2)  \\\n",
       "0          Afghanistan    SouthernAsia              652864   \n",
       "1              Albania  SouthernEurope               28748   \n",
       "2              Algeria  NorthernAfrica             2381741   \n",
       "3               Angola    MiddleAfrica             1246700   \n",
       "4  Antigua and Barbuda       Caribbean                 442   \n",
       "\n",
       "   Population in thousands (2017)  GDP per capita (current US$)  \\\n",
       "0                           35530                         623.2   \n",
       "1                            2930                        3984.2   \n",
       "2                           41318                        4154.1   \n",
       "3                           29784                        4714.1   \n",
       "4                             102                       14764.5   \n",
       "\n",
       "   Agricultural production index   International trade: Imports (million US$)  \n",
       "0                             125                                        3568  \n",
       "1                             134                                        4669  \n",
       "2                             160                                       47091  \n",
       "3                             175                                        8790  \n",
       "4                              88                                         491  "
      ]
     },
     "execution_count": 2,
     "metadata": {},
     "output_type": "execute_result"
    }
   ],
   "source": [
    "cnt=pd.read_excel('Dataset_w6.xlsx')\n",
    "cnt.head(5)"
   ]
  },
  {
   "cell_type": "markdown",
   "id": "9c236ff6",
   "metadata": {},
   "source": [
    " Find out how many countries are there in the dataset. "
   ]
  },
  {
   "cell_type": "code",
   "execution_count": 3,
   "id": "5f2d54b9",
   "metadata": {},
   "outputs": [
    {
     "data": {
      "text/plain": [
       "196"
      ]
     },
     "execution_count": 3,
     "metadata": {},
     "output_type": "execute_result"
    }
   ],
   "source": [
    "count=cnt['country'].count().sum()\n",
    "count"
   ]
  },
  {
   "cell_type": "markdown",
   "id": "6038f0c6",
   "metadata": {},
   "source": [
    "There are 196 countries in the dataset"
   ]
  },
  {
   "cell_type": "code",
   "execution_count": null,
   "id": "e9e7a5cd",
   "metadata": {},
   "outputs": [],
   "source": []
  },
  {
   "cell_type": "markdown",
   "id": "6bd05fab",
   "metadata": {},
   "source": [
    " Examine the data by using visualizations."
   ]
  },
  {
   "cell_type": "code",
   "execution_count": 4,
   "id": "2608f44a",
   "metadata": {},
   "outputs": [
    {
     "data": {
      "image/png": "[encoded data removed]",
      "text/plain": [
       "<Figure size 1152x432 with 1 Axes>"
      ]
     },
     "metadata": {
      "needs_background": "light"
     },
     "output_type": "display_data"
    }
   ],
   "source": [
    "plt.figure(figsize=(16,6))\n",
    "sns.countplot(x='Region',data=cnt)\n",
    "plt.title('num of countries in a region')\n",
    "plt.xticks(rotation=60)\n",
    "plt.show()"
   ]
  },
  {
   "cell_type": "markdown",
   "id": "53e51507",
   "metadata": {},
   "source": [
    "Western Asia has the highest number of countries"
   ]
  },
  {
   "cell_type": "code",
   "execution_count": 5,
   "id": "01c9d94a",
   "metadata": {},
   "outputs": [
    {
     "data": {
      "image/png": "[encoded data removed]",
      "text/plain": [
       "<Figure size 1152x432 with 1 Axes>"
      ]
     },
     "metadata": {
      "needs_background": "light"
     },
     "output_type": "display_data"
    }
   ],
   "source": [
    "plt.figure(figsize=(16,6))\n",
    "cnt.groupby(\"Region\")['Agricultural production index '].mean().plot(kind = \"bar\",color=\"#C5A3FF\")\n",
    "plt.title(\"Region v/s Agricultural production index \",fontsize = 16)\n",
    "plt.xticks(rotation = 45,fontsize = 10)\n",
    "plt.show()"
   ]
  },
  {
   "cell_type": "markdown",
   "id": "1fc3cb79",
   "metadata": {},
   "source": [
    "From the above graph it is clear that south-eastern Asia has the high Agricultural production Index"
   ]
  },
  {
   "cell_type": "markdown",
   "id": "f39d70c3",
   "metadata": {},
   "source": []
  },
  {
   "cell_type": "markdown",
   "id": "ffb8ba61",
   "metadata": {},
   "source": [
    " Find out how many countries with respect to the region are available in the dataset "
   ]
  },
  {
   "cell_type": "code",
   "execution_count": 6,
   "id": "a74bdc51",
   "metadata": {},
   "outputs": [
    {
     "data": {
      "text/plain": [
       "WesternAsia          18\n",
       "EasternAfrica        17\n",
       "Caribbean            16\n",
       "WesternAfrica        15\n",
       "SouthernEurope       12\n",
       "SouthAmerica         12\n",
       "South-easternAsia    11\n",
       "EasternEurope        10\n",
       "NorthernEurope       10\n",
       "SouthernAsia          9\n",
       "MiddleAfrica          9\n",
       "CentralAmerica        8\n",
       "WesternEurope         7\n",
       "EasternAsia           7\n",
       "CentralAsia           5\n",
       "NorthernAfrica        5\n",
       "Polynesia             5\n",
       "Melanesia             5\n",
       "SouthernAfrica        5\n",
       "Micronesia            4\n",
       "NorthernAmerica       4\n",
       "Oceania               2\n",
       "Name: Region, dtype: int64"
      ]
     },
     "execution_count": 6,
     "metadata": {},
     "output_type": "execute_result"
    }
   ],
   "source": [
    "reg=cnt['Region'].value_counts()\n",
    "reg"
   ]
  },
  {
   "cell_type": "markdown",
   "id": "610e70b9",
   "metadata": {},
   "source": []
  },
  {
   "cell_type": "markdown",
   "id": "055e5ef2",
   "metadata": {},
   "source": [
    "On average which region has the highest GDP per capita (current US$) "
   ]
  },
  {
   "cell_type": "code",
   "execution_count": 7,
   "id": "b978a556",
   "metadata": {},
   "outputs": [
    {
     "data": {
      "text/plain": [
       "Region\n",
       "Caribbean            15135.562500\n",
       "CentralAmerica        6348.137500\n",
       "CentralAsia           4329.880000\n",
       "EasternAfrica         2088.852941\n",
       "EasternAsia          27967.614286\n",
       "EasternEurope         9292.490000\n",
       "Melanesia             9261.960000\n",
       "Micronesia            5008.300000\n",
       "MiddleAfrica          3928.833333\n",
       "NorthernAfrica        3934.960000\n",
       "NorthernAmerica      57659.000000\n",
       "NorthernEurope       42098.220000\n",
       "Oceania              44823.250000\n",
       "Polynesia             8686.520000\n",
       "South-easternAsia    10299.027273\n",
       "SouthAmerica          8499.775000\n",
       "SouthernAfrica        4191.900000\n",
       "SouthernAsia          2968.400000\n",
       "SouthernEurope       14462.741667\n",
       "WesternAfrica         1013.140000\n",
       "WesternAsia          17013.938889\n",
       "WesternEurope        55387.128571\n",
       "Name: GDP per capita (current US$), dtype: float64"
      ]
     },
     "execution_count": 7,
     "metadata": {},
     "output_type": "execute_result"
    }
   ],
   "source": [
    "re=cnt.groupby('Region')\n",
    "gdp=re['GDP per capita (current US$)'].mean()\n",
    "gdp"
   ]
  },
  {
   "cell_type": "code",
   "execution_count": 8,
   "id": "0aaf8644",
   "metadata": {},
   "outputs": [
    {
     "data": {
      "text/plain": [
       "Region\n",
       "NorthernAmerica    57659.0\n",
       "Name: GDP per capita (current US$), dtype: float64"
      ]
     },
     "execution_count": 8,
     "metadata": {},
     "output_type": "execute_result"
    }
   ],
   "source": [
    "gdp.nlargest(1)"
   ]
  },
  {
   "cell_type": "markdown",
   "id": "79d78317",
   "metadata": {},
   "source": []
  },
  {
   "cell_type": "markdown",
   "id": "5c69338b",
   "metadata": {},
   "source": [
    "On average which region has the highest International trade: Imports (million US$)"
   ]
  },
  {
   "cell_type": "code",
   "execution_count": 9,
   "id": "1b2ce86b",
   "metadata": {},
   "outputs": [
    {
     "data": {
      "text/plain": [
       "Region\n",
       "Caribbean              3057.312500\n",
       "CentralAmerica        57031.500000\n",
       "CentralAsia           12063.400000\n",
       "EasternAfrica          4726.176471\n",
       "EasternAsia          451995.000000\n",
       "EasternEurope         85243.900000\n",
       "Melanesia              2896.400000\n",
       "Micronesia               99.000000\n",
       "MiddleAfrica           4381.222222\n",
       "NorthernAfrica        35034.400000\n",
       "NorthernAmerica      663552.250000\n",
       "NorthernEurope       113407.200000\n",
       "Oceania              112914.500000\n",
       "Polynesia               432.000000\n",
       "South-easternAsia     98324.636364\n",
       "SouthAmerica          32885.666667\n",
       "SouthernAfrica        18005.600000\n",
       "SouthernAsia          58199.333333\n",
       "SouthernEurope        76666.666667\n",
       "WesternAfrica          4898.333333\n",
       "WesternAsia           46025.555556\n",
       "WesternEurope        407498.428571\n",
       "Name: International trade: Imports (million US$), dtype: float64"
      ]
     },
     "execution_count": 9,
     "metadata": {},
     "output_type": "execute_result"
    }
   ],
   "source": [
    "d1=cnt.groupby('Region')\n",
    "it=d1['International trade: Imports (million US$)'].mean()\n",
    "it"
   ]
  },
  {
   "cell_type": "code",
   "execution_count": 10,
   "id": "d8ac9e90",
   "metadata": {},
   "outputs": [
    {
     "data": {
      "text/plain": [
       "Region\n",
       "NorthernAmerica    663552.25\n",
       "Name: International trade: Imports (million US$), dtype: float64"
      ]
     },
     "execution_count": 10,
     "metadata": {},
     "output_type": "execute_result"
    }
   ],
   "source": [
    "it.nlargest(1)"
   ]
  },
  {
   "cell_type": "markdown",
   "id": "598f02a3",
   "metadata": {},
   "source": [
    " Find out which region has more consistent with respect to GDP per capita (current US$)"
   ]
  },
  {
   "cell_type": "code",
   "execution_count": 11,
   "id": "e56a819e",
   "metadata": {},
   "outputs": [
    {
     "data": {
      "text/plain": [
       "Region\n",
       "Caribbean            14579.371326\n",
       "CentralAmerica        4180.440883\n",
       "CentralAsia           4152.215490\n",
       "EasternAfrica         3716.131770\n",
       "EasternAsia          27485.120923\n",
       "EasternEurope         5415.488739\n",
       "Melanesia            13855.842686\n",
       "Micronesia            4820.669694\n",
       "MiddleAfrica          5274.846281\n",
       "NorthernAfrica         974.706575\n",
       "NorthernAmerica      25749.619445\n",
       "NorthernEurope       20671.030185\n",
       "Oceania               9233.329638\n",
       "Polynesia             6956.250286\n",
       "South-easternAsia    16311.810656\n",
       "SouthAmerica          4273.707394\n",
       "SouthernAfrica        2177.551120\n",
       "SouthernAsia          2855.708179\n",
       "SouthernEurope        9541.703216\n",
       "WesternAfrica          815.095399\n",
       "WesternAsia          18812.151459\n",
       "WesternEurope        24770.467728\n",
       "Name: GDP per capita (current US$), dtype: float64"
      ]
     },
     "execution_count": 11,
     "metadata": {},
     "output_type": "execute_result"
    }
   ],
   "source": [
    "std=cnt.groupby('Region')['GDP per capita (current US$)'].std()\n",
    "std"
   ]
  },
  {
   "cell_type": "code",
   "execution_count": 12,
   "id": "f7513c5b",
   "metadata": {},
   "outputs": [
    {
     "data": {
      "text/plain": [
       "Region\n",
       "WesternAfrica      815.095399\n",
       "NorthernAfrica     974.706575\n",
       "SouthernAfrica    2177.551120\n",
       "SouthernAsia      2855.708179\n",
       "EasternAfrica     3716.131770\n",
       "Name: GDP per capita (current US$), dtype: float64"
      ]
     },
     "execution_count": 12,
     "metadata": {},
     "output_type": "execute_result"
    }
   ],
   "source": [
    "std.nsmallest()"
   ]
  }
 ],
 "metadata": {
  "kernelspec": {
   "display_name": "Python 3",
   "language": "python",
   "name": "python3"
  },
  "language_info": {
   "codemirror_mode": {
    "name": "ipython",
    "version": 3
   },
   "file_extension": ".py",
   "mimetype": "text/x-python",
   "name": "python",
   "nbconvert_exporter": "python",
   "pygments_lexer": "ipython3",
   "version": "3.8.8"
  }
 },
 "nbformat": 4,
 "nbformat_minor": 5
}
